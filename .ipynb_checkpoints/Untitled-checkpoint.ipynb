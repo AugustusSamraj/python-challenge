{
 "cells": [
  {
   "cell_type": "code",
   "execution_count": 109,
   "metadata": {},
   "outputs": [],
   "source": [
    "import os\n",
    "\n",
    "# Module for reading CSV files\n",
    "import csv\n",
    "\n",
    "csvpath = os.path.join('.', 'PyBank\\Resources', 'budget_data.csv')\n",
    "outputpath = os.path.join('.', 'PyBank\\Output', 'Financial_Analysis_Summary.txt')"
   ]
  },
  {
   "cell_type": "code",
   "execution_count": 99,
   "metadata": {},
   "outputs": [
    {
     "name": "stdout",
     "output_type": "stream",
     "text": [
      ".\\PyBank\\Resources\\budget_data.csv\n"
     ]
    }
   ],
   "source": [
    "print(csvpath)"
   ]
  },
  {
   "cell_type": "code",
   "execution_count": 114,
   "metadata": {},
   "outputs": [
    {
     "name": "stdout",
     "output_type": "stream",
     "text": [
      "Python Challenge Financial Analysis\n",
      "------------------------------------\n",
      "Total No of Months: 86\n",
      "Net Total of Profit/Loss: $38382578\n",
      "Average Change: -2315.12\n",
      "Greatest Increase (in Profits): Feb-2012 ($1926159)\n",
      "Greatest Decrease (in Profits): Sep-2013 ($-2196167)\n"
     ]
    }
   ],
   "source": [
    "#monthcount=0\n",
    "#total=0\n",
    "monthList =[]\n",
    "profitList =[]\n",
    "profitChange= []\n",
    "with open(csvpath, newline='', encoding=\"utf-8\") as csvfile:\n",
    "\n",
    "    # CSV reader specifies delimiter and variable that holds contents\n",
    "    csvreader = csv.reader(csvfile, delimiter=',')\n",
    "    csv_header = next(csvreader)\n",
    "    #print(f\"CSV Header: {csv_header}\")\n",
    "    #i=0\n",
    "    \n",
    "    #sum(1 for line in f)\n",
    "    for row in csvreader:\n",
    "        #monthcount = monthcount +1\n",
    "        #total = total + int(row[1])\n",
    "        monthList.append(row[0])\n",
    "        profitList.append(int(row[1]))\n",
    "   \n",
    "    for i in range(len(profitList)-1) :        \n",
    "        profitChange.append(profitList[i+1]-profitList[i])\n",
    "                          \n",
    "maxvalueIncrease = max(profitChange)\n",
    "maxvalueDecrease = min(profitChange)\n",
    "#print(min(profitChange))\n",
    "#averagePL=round((total/monthcount),2)\n",
    "\n",
    "\n",
    "maxvalueIncreaseMonth = profitChange.index(max(profitChange)) + 1\n",
    "maxvalueDecreaseMonth = profitChange.index(min(profitChange)) + 1 \n",
    "AverageChange =round(sum(profitChange)/len(profitChange),2)\n",
    "                     \n",
    "# Print Statements\n",
    "\n",
    "print(\"Python Challenge Financial Analysis\")\n",
    "print(\"------------------------------------\")\n",
    "print(f\"Total No of Months: {len(monthList)}\")\n",
    "print(f\"Net Total of Profit/Loss: ${sum(profitList)}\")\n",
    "print(f\"Average Change: {AverageChange}\")\n",
    "print(f\"Greatest Increase (in Profits): {monthList[maxvalueIncreaseMonth]} (${(str(maxvalueIncrease))})\")\n",
    "print(f\"Greatest Decrease (in Profits): {monthList[maxvalueDecreaseMonth]} (${(str(maxvalueDecrease))})\")\n",
    "\n",
    "          \n",
    "with open(outputpath,\"w\") as file:\n",
    "   \n",
    "    file.write(\"Python Challenge Financial Analysis\\n\")\n",
    "    file.write(\"\\n\")\n",
    "    file.write(\"-----------------------------------\")\n",
    "    file.write(\"\\n\")\n",
    "    file.write(f\"Total No of Months: {len(monthList)} \\n\")\n",
    "    file.write(f\"Net Total of Profit/Loss: ${sum(profitList)}\\n\")\n",
    "    file.write(f\"Average Change: {AverageChange}\\n\")\n",
    "    file.write(f\"Greatest Increase (in Profits): {monthList[maxvalueIncreaseMonth]} (${(str(maxvalueIncrease))})\\n\")\n",
    "    file.write(f\"Greatest Decrease (in Profits): {monthList[maxvalueDecreaseMonth]} (${(str(maxvalueDecrease))})\")\n",
    "\n",
    "#print(\"The net total amount of Profit/Losses: \" + str(sum(profitList)))\n",
    "#print(\"The average of the changes in Profit/Losses: \" + str(averagePL))\n",
    "#print(profitList)"
   ]
  },
  {
   "cell_type": "code",
   "execution_count": null,
   "metadata": {},
   "outputs": [],
   "source": []
  },
  {
   "cell_type": "code",
   "execution_count": null,
   "metadata": {},
   "outputs": [],
   "source": []
  }
 ],
 "metadata": {
  "kernelspec": {
   "display_name": "Python 3",
   "language": "python",
   "name": "python3"
  },
  "language_info": {
   "codemirror_mode": {
    "name": "ipython",
    "version": 3
   },
   "file_extension": ".py",
   "mimetype": "text/x-python",
   "name": "python",
   "nbconvert_exporter": "python",
   "pygments_lexer": "ipython3",
   "version": "3.6.9"
  }
 },
 "nbformat": 4,
 "nbformat_minor": 2
}
